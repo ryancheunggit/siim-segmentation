{
 "cells": [
  {
   "cell_type": "code",
   "execution_count": 2,
   "metadata": {},
   "outputs": [
    {
     "name": "stdout",
     "output_type": "stream",
     "text": [
      "Collecting pydicom\n",
      "  Using cached https://files.pythonhosted.org/packages/fc/d5/da1fdf3b967e324ee47a7ad9553c9b94c1193b6b98afd9eeda0efb76b9f7/pydicom-1.3.0-py2.py3-none-any.whl\n",
      "Installing collected packages: pydicom\n",
      "Successfully installed pydicom-1.3.0\n",
      "Note: you may need to restart the kernel to use updated packages.\n"
     ]
    }
   ],
   "source": [
    "pip install pydicom"
   ]
  },
  {
   "cell_type": "code",
   "execution_count": 3,
   "metadata": {},
   "outputs": [],
   "source": [
    "import os\n",
    "import cv2\n",
    "import glob2\n",
    "import pydicom\n",
    "from joblib import Parallel, delayed\n",
    "from tqdm import tqdm_notebook as tqdm"
   ]
  },
  {
   "cell_type": "code",
   "execution_count": 4,
   "metadata": {},
   "outputs": [],
   "source": [
    "N_JOBS = 24"
   ]
  },
  {
   "cell_type": "code",
   "execution_count": 5,
   "metadata": {},
   "outputs": [],
   "source": [
    "def convert_images(filename, outdir):\n",
    "    ds = pydicom.read_file(str(filename))\n",
    "    img = ds.pixel_array\n",
    "    img = cv2.resize(img, (1024, 1024))\n",
    "    cv2.imwrite(outdir + filename.split('/')[-1][:-4] + '.png', img)"
   ]
  },
  {
   "cell_type": "code",
   "execution_count": 6,
   "metadata": {},
   "outputs": [],
   "source": [
    "# train_path = '../data/dicom-images-train/'\n",
    "# test_path = '../data/dicom-images-test/'\n",
    "# train_out_path = '../data/train_png/'\n",
    "# test_out_path = '../data/test_png/'\n",
    "\n",
    "test2_path = '../data/stage_2_images/'\n",
    "test2_out_path = '../data/test2_png/'"
   ]
  },
  {
   "cell_type": "code",
   "execution_count": 8,
   "metadata": {},
   "outputs": [],
   "source": [
    "# if not os.path.exists(train_out_path):\n",
    "#     os.makedirs(train_out_path)\n",
    "    \n",
    "# if not os.path.exists(test_out_path):\n",
    "#     os.makedirs(test_out_path)\n",
    "\n",
    "if not os.path.exists(test2_out_path):\n",
    "    os.makedirs(test2_out_path)"
   ]
  },
  {
   "cell_type": "code",
   "execution_count": 9,
   "metadata": {},
   "outputs": [
    {
     "data": {
      "application/vnd.jupyter.widget-view+json": {
       "model_id": "437e3371e1ea4b52909bfe3aa43f75d7",
       "version_major": 2,
       "version_minor": 0
      },
      "text/plain": [
       "HBox(children=(IntProgress(value=0, max=3205), HTML(value='')))"
      ]
     },
     "metadata": {},
     "output_type": "display_data"
    },
    {
     "name": "stdout",
     "output_type": "stream",
     "text": [
      "\n"
     ]
    }
   ],
   "source": [
    "# train_dcm_list = glob2.glob(os.path.join(train_path, '**/*.dcm'))\n",
    "# test_dcm_list = glob2.glob(os.path.join(test_path, '**/*.dcm'))\n",
    "\n",
    "test_dcm_list = glob2.glob(os.path.join(test2_path, '**/*.dcm'))\n",
    "\n",
    "# res1 = Parallel(n_jobs=N_JOBS, backend='threading')(\n",
    "#     delayed(convert_images)(i, train_out_path)\n",
    "#     for i in tqdm(train_dcm_list, total=len(train_dcm_list))\n",
    "# )\n",
    "\n",
    "# res2 = Parallel(n_jobs=N_JOBS, backend='threading')(\n",
    "#     delayed(convert_images)(i, test_out_path) \n",
    "#     for i in tqdm(test_dcm_list, total=len(test_dcm_list))\n",
    "# )\n",
    "\n",
    "res3 = Parallel(n_jobs=N_JOBS, backend='threading')(\n",
    "    delayed(convert_images)(i, test2_out_path) \n",
    "    for i in tqdm(test_dcm_list, total=len(test_dcm_list))\n",
    ")"
   ]
  }
 ],
 "metadata": {
  "kernelspec": {
   "display_name": "Python 3",
   "language": "python",
   "name": "python3"
  },
  "language_info": {
   "codemirror_mode": {
    "name": "ipython",
    "version": 3
   },
   "file_extension": ".py",
   "mimetype": "text/x-python",
   "name": "python",
   "nbconvert_exporter": "python",
   "pygments_lexer": "ipython3",
   "version": "3.6.9"
  }
 },
 "nbformat": 4,
 "nbformat_minor": 2
}
